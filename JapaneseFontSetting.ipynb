{
  "nbformat": 4,
  "nbformat_minor": 0,
  "metadata": {
    "colab": {
      "provenance": [],
      "authorship_tag": "ABX9TyMoGRYZBBvJqSzzSU0S5Yhr",
      "include_colab_link": true
    },
    "kernelspec": {
      "name": "python3",
      "display_name": "Python 3"
    },
    "language_info": {
      "name": "python"
    }
  },
  "cells": [
    {
      "cell_type": "markdown",
      "metadata": {
        "id": "view-in-github",
        "colab_type": "text"
      },
      "source": [
        "<a href=\"https://colab.research.google.com/github/akihikoichihara/Colab/blob/main/JapaneseFontSetting.ipynb\" target=\"_parent\"><img src=\"https://colab.research.google.com/assets/colab-badge.svg\" alt=\"Open In Colab\"/></a>"
      ]
    },
    {
      "cell_type": "code",
      "execution_count": null,
      "metadata": {
        "colab": {
          "base_uri": "https://localhost:8080/"
        },
        "id": "9vsoPmWi0wq0",
        "outputId": "9ac5f470-4acf-484b-c375-7f461b63f248"
      },
      "outputs": [
        {
          "output_type": "stream",
          "name": "stdout",
          "text": [
            "/usr/share/fonts/truetype/liberation/LiberationSerif-Regular.ttf\n",
            "/usr/share/fonts/truetype/liberation/LiberationMono-Italic.ttf\n",
            "/usr/share/fonts/truetype/liberation/LiberationMono-BoldItalic.ttf\n",
            "/usr/share/fonts/truetype/liberation/LiberationSans-Italic.ttf\n",
            "/usr/share/fonts/truetype/humor-sans/Humor-Sans.ttf\n",
            "/usr/share/fonts/truetype/liberation/LiberationSans-Regular.ttf\n",
            "/usr/share/fonts/truetype/liberation/LiberationSansNarrow-BoldItalic.ttf\n",
            "/usr/share/fonts/truetype/liberation/LiberationSans-BoldItalic.ttf\n",
            "/usr/share/fonts/truetype/liberation/LiberationSerif-BoldItalic.ttf\n",
            "/usr/share/fonts/truetype/liberation/LiberationSerif-Italic.ttf\n",
            "/usr/share/fonts/truetype/liberation/LiberationSansNarrow-Italic.ttf\n",
            "/usr/share/fonts/truetype/liberation/LiberationSansNarrow-Regular.ttf\n",
            "/usr/share/fonts/truetype/liberation/LiberationSansNarrow-Bold.ttf\n",
            "/usr/share/fonts/truetype/liberation/LiberationSans-Bold.ttf\n",
            "/usr/share/fonts/truetype/liberation/LiberationMono-Bold.ttf\n",
            "/usr/share/fonts/truetype/liberation/LiberationSerif-Bold.ttf\n",
            "/usr/share/fonts/truetype/liberation/LiberationMono-Regular.ttf\n"
          ]
        }
      ],
      "source": [
        "import matplotlib.font_manager as fm\n",
        "\n",
        "# システムにあるフォント一覧を取得\n",
        "fonts = fm.findSystemFonts()\n",
        "for font in fonts:\n",
        "    print(font)\n"
      ]
    },
    {
      "cell_type": "code",
      "source": [
        "!apt-get update -y\n",
        "!apt-get install -y fonts-noto-cjk\n"
      ],
      "metadata": {
        "colab": {
          "base_uri": "https://localhost:8080/"
        },
        "id": "USjU-tp31Cp8",
        "outputId": "a688b077-dc4e-4c82-8eb8-034c153f7794"
      },
      "execution_count": null,
      "outputs": [
        {
          "output_type": "stream",
          "name": "stdout",
          "text": [
            "Get:1 https://cloud.r-project.org/bin/linux/ubuntu jammy-cran40/ InRelease [3,632 B]\n",
            "Get:2 http://security.ubuntu.com/ubuntu jammy-security InRelease [129 kB]\n",
            "Get:3 https://developer.download.nvidia.com/compute/cuda/repos/ubuntu2204/x86_64  InRelease [1,581 B]\n",
            "Get:4 https://r2u.stat.illinois.edu/ubuntu jammy InRelease [6,555 B]\n",
            "Get:5 https://developer.download.nvidia.com/compute/cuda/repos/ubuntu2204/x86_64  Packages [1,369 kB]\n",
            "Hit:6 http://archive.ubuntu.com/ubuntu jammy InRelease\n",
            "Get:7 http://archive.ubuntu.com/ubuntu jammy-updates InRelease [128 kB]\n",
            "Hit:8 https://ppa.launchpadcontent.net/deadsnakes/ppa/ubuntu jammy InRelease\n",
            "Get:9 https://r2u.stat.illinois.edu/ubuntu jammy/main all Packages [8,730 kB]\n",
            "Hit:10 https://ppa.launchpadcontent.net/graphics-drivers/ppa/ubuntu jammy InRelease\n",
            "Get:11 http://security.ubuntu.com/ubuntu jammy-security/main amd64 Packages [2,682 kB]\n",
            "Hit:12 https://ppa.launchpadcontent.net/ubuntugis/ppa/ubuntu jammy InRelease\n",
            "Get:13 http://security.ubuntu.com/ubuntu jammy-security/restricted amd64 Packages [3,774 kB]\n",
            "Get:14 http://archive.ubuntu.com/ubuntu jammy-backports InRelease [127 kB]\n",
            "Get:15 http://security.ubuntu.com/ubuntu jammy-security/multiverse amd64 Packages [56.4 kB]\n",
            "Get:16 https://r2u.stat.illinois.edu/ubuntu jammy/main amd64 Packages [2,668 kB]\n",
            "Get:17 http://archive.ubuntu.com/ubuntu jammy-updates/main amd64 Packages [2,988 kB]\n",
            "Get:18 http://archive.ubuntu.com/ubuntu jammy-updates/multiverse amd64 Packages [64.2 kB]\n",
            "Get:19 http://archive.ubuntu.com/ubuntu jammy-updates/restricted amd64 Packages [3,934 kB]\n",
            "Get:20 http://archive.ubuntu.com/ubuntu jammy-updates/universe amd64 Packages [1,533 kB]\n",
            "Fetched 28.2 MB in 3s (8,948 kB/s)\n",
            "Reading package lists... Done\n",
            "W: Skipping acquire of configured file 'main/source/Sources' as repository 'https://r2u.stat.illinois.edu/ubuntu jammy InRelease' does not seem to provide it (sources.list entry misspelt?)\n",
            "Reading package lists... Done\n",
            "Building dependency tree... Done\n",
            "Reading state information... Done\n",
            "Suggested packages:\n",
            "  fonts-noto-cjk-extra\n",
            "The following NEW packages will be installed:\n",
            "  fonts-noto-cjk\n",
            "0 upgraded, 1 newly installed, 0 to remove and 32 not upgraded.\n",
            "Need to get 61.2 MB of archives.\n",
            "After this operation, 93.2 MB of additional disk space will be used.\n",
            "Get:1 http://archive.ubuntu.com/ubuntu jammy/main amd64 fonts-noto-cjk all 1:20220127+repack1-1 [61.2 MB]\n",
            "Fetched 61.2 MB in 3s (18.1 MB/s)\n",
            "Selecting previously unselected package fonts-noto-cjk.\n",
            "(Reading database ... 124947 files and directories currently installed.)\n",
            "Preparing to unpack .../fonts-noto-cjk_1%3a20220127+repack1-1_all.deb ...\n",
            "Unpacking fonts-noto-cjk (1:20220127+repack1-1) ...\n",
            "Setting up fonts-noto-cjk (1:20220127+repack1-1) ...\n",
            "Processing triggers for fontconfig (2.13.1-4.2ubuntu5) ...\n"
          ]
        }
      ]
    },
    {
      "cell_type": "code",
      "source": [
        "import matplotlib.font_manager as fm\n",
        "\n",
        "# システムにあるフォント一覧を取得\n",
        "fonts = fm.findSystemFonts()\n",
        "for font in fonts:\n",
        "    print(font)\n"
      ],
      "metadata": {
        "colab": {
          "base_uri": "https://localhost:8080/"
        },
        "id": "501_q4Qm1MMO",
        "outputId": "a4f27353-0c8c-4b6c-eafe-1712379bdf21"
      },
      "execution_count": null,
      "outputs": [
        {
          "output_type": "stream",
          "name": "stdout",
          "text": [
            "/usr/share/fonts/truetype/liberation/LiberationMono-Bold.ttf\n",
            "/usr/share/fonts/truetype/liberation/LiberationSansNarrow-Bold.ttf\n",
            "/usr/share/fonts/truetype/liberation/LiberationSerif-Bold.ttf\n",
            "/usr/share/fonts/opentype/noto/NotoSansCJK-Bold.ttc\n",
            "/usr/share/fonts/truetype/liberation/LiberationMono-BoldItalic.ttf\n",
            "/usr/share/fonts/truetype/liberation/LiberationSans-Italic.ttf\n",
            "/usr/share/fonts/truetype/liberation/LiberationSansNarrow-BoldItalic.ttf\n",
            "/usr/share/fonts/opentype/noto/NotoSansCJK-Regular.ttc\n",
            "/usr/share/fonts/truetype/liberation/LiberationMono-Italic.ttf\n",
            "/usr/share/fonts/truetype/liberation/LiberationSerif-BoldItalic.ttf\n",
            "/usr/share/fonts/truetype/liberation/LiberationSansNarrow-Italic.ttf\n",
            "/usr/share/fonts/truetype/liberation/LiberationSans-Bold.ttf\n",
            "/usr/share/fonts/opentype/noto/NotoSerifCJK-Bold.ttc\n",
            "/usr/share/fonts/opentype/noto/NotoSerifCJK-Regular.ttc\n",
            "/usr/share/fonts/truetype/liberation/LiberationMono-Regular.ttf\n",
            "/usr/share/fonts/truetype/liberation/LiberationSerif-Regular.ttf\n",
            "/usr/share/fonts/truetype/humor-sans/Humor-Sans.ttf\n",
            "/usr/share/fonts/truetype/liberation/LiberationSans-Regular.ttf\n",
            "/usr/share/fonts/truetype/liberation/LiberationSans-BoldItalic.ttf\n",
            "/usr/share/fonts/truetype/liberation/LiberationSerif-Italic.ttf\n",
            "/usr/share/fonts/truetype/liberation/LiberationSansNarrow-Regular.ttf\n"
          ]
        }
      ]
    },
    {
      "cell_type": "code",
      "source": [
        "import matplotlib.pyplot as plt\n",
        "\n",
        "# フォントの手動設定\n",
        "plt.rcParams['font.family'] = 'Noto Sans CJK JP'\n",
        "\n",
        "# テストプロット\n",
        "plt.figure(figsize=(5,3))\n",
        "plt.text(0.5, 0.5, \"テスト: 日本語が表示されますか？\", fontsize=15, ha='center')\n",
        "plt.show()\n"
      ],
      "metadata": {
        "colab": {
          "base_uri": "https://localhost:8080/",
          "height": 1000
        },
        "id": "n1oJ735f1YAR",
        "outputId": "428a3084-dc75-49d5-b678-0c3d13b42d59"
      },
      "execution_count": null,
      "outputs": [
        {
          "output_type": "stream",
          "name": "stderr",
          "text": [
            "WARNING:matplotlib.font_manager:findfont: Font family 'Noto Sans CJK JP' not found.\n",
            "WARNING:matplotlib.font_manager:findfont: Font family 'Noto Sans CJK JP' not found.\n",
            "WARNING:matplotlib.font_manager:findfont: Font family 'Noto Sans CJK JP' not found.\n",
            "WARNING:matplotlib.font_manager:findfont: Font family 'Noto Sans CJK JP' not found.\n",
            "WARNING:matplotlib.font_manager:findfont: Font family 'Noto Sans CJK JP' not found.\n",
            "WARNING:matplotlib.font_manager:findfont: Font family 'Noto Sans CJK JP' not found.\n",
            "WARNING:matplotlib.font_manager:findfont: Font family 'Noto Sans CJK JP' not found.\n",
            "WARNING:matplotlib.font_manager:findfont: Font family 'Noto Sans CJK JP' not found.\n",
            "WARNING:matplotlib.font_manager:findfont: Font family 'Noto Sans CJK JP' not found.\n",
            "/usr/local/lib/python3.11/dist-packages/IPython/core/pylabtools.py:151: UserWarning: Glyph 12486 (\\N{KATAKANA LETTER TE}) missing from font(s) DejaVu Sans.\n",
            "  fig.canvas.print_figure(bytes_io, **kw)\n",
            "/usr/local/lib/python3.11/dist-packages/IPython/core/pylabtools.py:151: UserWarning: Glyph 12473 (\\N{KATAKANA LETTER SU}) missing from font(s) DejaVu Sans.\n",
            "  fig.canvas.print_figure(bytes_io, **kw)\n",
            "/usr/local/lib/python3.11/dist-packages/IPython/core/pylabtools.py:151: UserWarning: Glyph 12488 (\\N{KATAKANA LETTER TO}) missing from font(s) DejaVu Sans.\n",
            "  fig.canvas.print_figure(bytes_io, **kw)\n",
            "/usr/local/lib/python3.11/dist-packages/IPython/core/pylabtools.py:151: UserWarning: Glyph 26085 (\\N{CJK UNIFIED IDEOGRAPH-65E5}) missing from font(s) DejaVu Sans.\n",
            "  fig.canvas.print_figure(bytes_io, **kw)\n",
            "/usr/local/lib/python3.11/dist-packages/IPython/core/pylabtools.py:151: UserWarning: Glyph 26412 (\\N{CJK UNIFIED IDEOGRAPH-672C}) missing from font(s) DejaVu Sans.\n",
            "  fig.canvas.print_figure(bytes_io, **kw)\n",
            "/usr/local/lib/python3.11/dist-packages/IPython/core/pylabtools.py:151: UserWarning: Glyph 35486 (\\N{CJK UNIFIED IDEOGRAPH-8A9E}) missing from font(s) DejaVu Sans.\n",
            "  fig.canvas.print_figure(bytes_io, **kw)\n",
            "/usr/local/lib/python3.11/dist-packages/IPython/core/pylabtools.py:151: UserWarning: Glyph 12364 (\\N{HIRAGANA LETTER GA}) missing from font(s) DejaVu Sans.\n",
            "  fig.canvas.print_figure(bytes_io, **kw)\n",
            "/usr/local/lib/python3.11/dist-packages/IPython/core/pylabtools.py:151: UserWarning: Glyph 34920 (\\N{CJK UNIFIED IDEOGRAPH-8868}) missing from font(s) DejaVu Sans.\n",
            "  fig.canvas.print_figure(bytes_io, **kw)\n",
            "/usr/local/lib/python3.11/dist-packages/IPython/core/pylabtools.py:151: UserWarning: Glyph 31034 (\\N{CJK UNIFIED IDEOGRAPH-793A}) missing from font(s) DejaVu Sans.\n",
            "  fig.canvas.print_figure(bytes_io, **kw)\n",
            "/usr/local/lib/python3.11/dist-packages/IPython/core/pylabtools.py:151: UserWarning: Glyph 12373 (\\N{HIRAGANA LETTER SA}) missing from font(s) DejaVu Sans.\n",
            "  fig.canvas.print_figure(bytes_io, **kw)\n",
            "/usr/local/lib/python3.11/dist-packages/IPython/core/pylabtools.py:151: UserWarning: Glyph 12428 (\\N{HIRAGANA LETTER RE}) missing from font(s) DejaVu Sans.\n",
            "  fig.canvas.print_figure(bytes_io, **kw)\n",
            "/usr/local/lib/python3.11/dist-packages/IPython/core/pylabtools.py:151: UserWarning: Glyph 12414 (\\N{HIRAGANA LETTER MA}) missing from font(s) DejaVu Sans.\n",
            "  fig.canvas.print_figure(bytes_io, **kw)\n",
            "/usr/local/lib/python3.11/dist-packages/IPython/core/pylabtools.py:151: UserWarning: Glyph 12377 (\\N{HIRAGANA LETTER SU}) missing from font(s) DejaVu Sans.\n",
            "  fig.canvas.print_figure(bytes_io, **kw)\n",
            "/usr/local/lib/python3.11/dist-packages/IPython/core/pylabtools.py:151: UserWarning: Glyph 12363 (\\N{HIRAGANA LETTER KA}) missing from font(s) DejaVu Sans.\n",
            "  fig.canvas.print_figure(bytes_io, **kw)\n",
            "/usr/local/lib/python3.11/dist-packages/IPython/core/pylabtools.py:151: UserWarning: Glyph 65311 (\\N{FULLWIDTH QUESTION MARK}) missing from font(s) DejaVu Sans.\n",
            "  fig.canvas.print_figure(bytes_io, **kw)\n",
            "WARNING:matplotlib.font_manager:findfont: Font family 'Noto Sans CJK JP' not found.\n",
            "WARNING:matplotlib.font_manager:findfont: Font family 'Noto Sans CJK JP' not found.\n",
            "WARNING:matplotlib.font_manager:findfont: Font family 'Noto Sans CJK JP' not found.\n",
            "WARNING:matplotlib.font_manager:findfont: Font family 'Noto Sans CJK JP' not found.\n",
            "WARNING:matplotlib.font_manager:findfont: Font family 'Noto Sans CJK JP' not found.\n",
            "WARNING:matplotlib.font_manager:findfont: Font family 'Noto Sans CJK JP' not found.\n",
            "WARNING:matplotlib.font_manager:findfont: Font family 'Noto Sans CJK JP' not found.\n",
            "WARNING:matplotlib.font_manager:findfont: Font family 'Noto Sans CJK JP' not found.\n",
            "WARNING:matplotlib.font_manager:findfont: Font family 'Noto Sans CJK JP' not found.\n",
            "WARNING:matplotlib.font_manager:findfont: Font family 'Noto Sans CJK JP' not found.\n",
            "WARNING:matplotlib.font_manager:findfont: Font family 'Noto Sans CJK JP' not found.\n",
            "WARNING:matplotlib.font_manager:findfont: Font family 'Noto Sans CJK JP' not found.\n",
            "WARNING:matplotlib.font_manager:findfont: Font family 'Noto Sans CJK JP' not found.\n",
            "WARNING:matplotlib.font_manager:findfont: Font family 'Noto Sans CJK JP' not found.\n",
            "WARNING:matplotlib.font_manager:findfont: Font family 'Noto Sans CJK JP' not found.\n",
            "WARNING:matplotlib.font_manager:findfont: Font family 'Noto Sans CJK JP' not found.\n",
            "WARNING:matplotlib.font_manager:findfont: Font family 'Noto Sans CJK JP' not found.\n",
            "WARNING:matplotlib.font_manager:findfont: Font family 'Noto Sans CJK JP' not found.\n",
            "WARNING:matplotlib.font_manager:findfont: Font family 'Noto Sans CJK JP' not found.\n",
            "WARNING:matplotlib.font_manager:findfont: Font family 'Noto Sans CJK JP' not found.\n",
            "WARNING:matplotlib.font_manager:findfont: Font family 'Noto Sans CJK JP' not found.\n",
            "WARNING:matplotlib.font_manager:findfont: Font family 'Noto Sans CJK JP' not found.\n"
          ]
        },
        {
          "output_type": "display_data",
          "data": {
            "text/plain": [
              "<Figure size 500x300 with 1 Axes>"
            ],
            "image/png": "[encoded data removed]"
          },
          "metadata": {}
        }
      ]
    },
    {
      "cell_type": "code",
      "source": [
        "import shutil\n",
        "import os\n",
        "\n",
        "# フォントキャッシュを削除\n",
        "font_cache_path = os.path.expanduser(\"~/.cache/matplotlib\")\n",
        "if os.path.exists(font_cache_path):\n",
        "    shutil.rmtree(font_cache_path)\n",
        "\n",
        "print(\"フォントキャッシュを削除しました。ランタイムを再起動してください。\")\n",
        "\n"
      ],
      "metadata": {
        "colab": {
          "base_uri": "https://localhost:8080/"
        },
        "id": "cyJjOGuY1fI4",
        "outputId": "bb16c45b-a219-4b97-c57b-593ed73c6d72"
      },
      "execution_count": null,
      "outputs": [
        {
          "output_type": "stream",
          "name": "stdout",
          "text": [
            "フォントキャッシュを削除しました。ランタイムを再起動してください。\n"
          ]
        }
      ]
    },
    {
      "cell_type": "code",
      "source": [
        "import matplotlib.pyplot as plt\n",
        "import matplotlib.font_manager as fm\n",
        "\n",
        "# フォントのパスを指定\n",
        "font_path = \"/usr/share/fonts/opentype/noto/NotoSansCJK-Regular.ttc\"\n",
        "\n",
        "# フォントプロパティを作成\n",
        "font_prop = fm.FontProperties(fname=font_path)\n",
        "\n",
        "# matplotlib に適用\n",
        "plt.rcParams[\"font.family\"] = font_prop.get_name()\n",
        "\n",
        "# テストプロット\n",
        "plt.figure(figsize=(5,3))\n",
        "plt.text(0.5, 0.5, \"テスト: 日本語が表示されますか？\", fontsize=15, ha='center')\n",
        "plt.show()\n"
      ],
      "metadata": {
        "colab": {
          "base_uri": "https://localhost:8080/",
          "height": 297
        },
        "collapsed": true,
        "id": "6A6vcKvG10rZ",
        "outputId": "4d136acd-cb32-4794-9a0a-0d33f25f3552"
      },
      "execution_count": null,
      "outputs": [
        {
          "output_type": "display_data",
          "data": {
            "text/plain": [
              "<Figure size 500x300 with 1 Axes>"
            ],
            "image/png": "[encoded data removed]"
          },
          "metadata": {}
        }
      ]
    },
    {
      "cell_type": "code",
      "source": [
        "import matplotlib.pyplot as plt\n",
        "\n",
        "# フォントの手動設定\n",
        "plt.rcParams['font.family'] = 'Noto Sans CJK JP'\n",
        "\n",
        "# テストプロット\n",
        "plt.figure(figsize=(5,3))\n",
        "plt.text(0.5, 0.5, \"テスト: 日本語が表示されますか？\", fontsize=15, ha='center')\n",
        "plt.show()\n"
      ],
      "metadata": {
        "colab": {
          "base_uri": "https://localhost:8080/",
          "height": 1000
        },
        "collapsed": true,
        "id": "0RFP8e2I00xg",
        "outputId": "4cd6f4e3-f5c0-4bdd-ab2f-65d53fc675ef"
      },
      "execution_count": null,
      "outputs": [
        {
          "output_type": "stream",
          "name": "stderr",
          "text": [
            "WARNING:matplotlib.font_manager:findfont: Font family 'Noto Sans CJK JP' not found.\n",
            "WARNING:matplotlib.font_manager:findfont: Font family 'Noto Sans CJK JP' not found.\n",
            "WARNING:matplotlib.font_manager:findfont: Font family 'Noto Sans CJK JP' not found.\n",
            "WARNING:matplotlib.font_manager:findfont: Font family 'Noto Sans CJK JP' not found.\n",
            "WARNING:matplotlib.font_manager:findfont: Font family 'Noto Sans CJK JP' not found.\n",
            "WARNING:matplotlib.font_manager:findfont: Font family 'Noto Sans CJK JP' not found.\n",
            "WARNING:matplotlib.font_manager:findfont: Font family 'Noto Sans CJK JP' not found.\n",
            "WARNING:matplotlib.font_manager:findfont: Font family 'Noto Sans CJK JP' not found.\n",
            "WARNING:matplotlib.font_manager:findfont: Font family 'Noto Sans CJK JP' not found.\n",
            "/usr/local/lib/python3.11/dist-packages/IPython/core/pylabtools.py:151: UserWarning: Glyph 12486 (\\N{KATAKANA LETTER TE}) missing from font(s) DejaVu Sans.\n",
            "  fig.canvas.print_figure(bytes_io, **kw)\n",
            "/usr/local/lib/python3.11/dist-packages/IPython/core/pylabtools.py:151: UserWarning: Glyph 12473 (\\N{KATAKANA LETTER SU}) missing from font(s) DejaVu Sans.\n",
            "  fig.canvas.print_figure(bytes_io, **kw)\n",
            "/usr/local/lib/python3.11/dist-packages/IPython/core/pylabtools.py:151: UserWarning: Glyph 12488 (\\N{KATAKANA LETTER TO}) missing from font(s) DejaVu Sans.\n",
            "  fig.canvas.print_figure(bytes_io, **kw)\n",
            "/usr/local/lib/python3.11/dist-packages/IPython/core/pylabtools.py:151: UserWarning: Glyph 26085 (\\N{CJK UNIFIED IDEOGRAPH-65E5}) missing from font(s) DejaVu Sans.\n",
            "  fig.canvas.print_figure(bytes_io, **kw)\n",
            "/usr/local/lib/python3.11/dist-packages/IPython/core/pylabtools.py:151: UserWarning: Glyph 26412 (\\N{CJK UNIFIED IDEOGRAPH-672C}) missing from font(s) DejaVu Sans.\n",
            "  fig.canvas.print_figure(bytes_io, **kw)\n",
            "/usr/local/lib/python3.11/dist-packages/IPython/core/pylabtools.py:151: UserWarning: Glyph 35486 (\\N{CJK UNIFIED IDEOGRAPH-8A9E}) missing from font(s) DejaVu Sans.\n",
            "  fig.canvas.print_figure(bytes_io, **kw)\n",
            "/usr/local/lib/python3.11/dist-packages/IPython/core/pylabtools.py:151: UserWarning: Glyph 12364 (\\N{HIRAGANA LETTER GA}) missing from font(s) DejaVu Sans.\n",
            "  fig.canvas.print_figure(bytes_io, **kw)\n",
            "/usr/local/lib/python3.11/dist-packages/IPython/core/pylabtools.py:151: UserWarning: Glyph 34920 (\\N{CJK UNIFIED IDEOGRAPH-8868}) missing from font(s) DejaVu Sans.\n",
            "  fig.canvas.print_figure(bytes_io, **kw)\n",
            "/usr/local/lib/python3.11/dist-packages/IPython/core/pylabtools.py:151: UserWarning: Glyph 31034 (\\N{CJK UNIFIED IDEOGRAPH-793A}) missing from font(s) DejaVu Sans.\n",
            "  fig.canvas.print_figure(bytes_io, **kw)\n",
            "/usr/local/lib/python3.11/dist-packages/IPython/core/pylabtools.py:151: UserWarning: Glyph 12373 (\\N{HIRAGANA LETTER SA}) missing from font(s) DejaVu Sans.\n",
            "  fig.canvas.print_figure(bytes_io, **kw)\n",
            "/usr/local/lib/python3.11/dist-packages/IPython/core/pylabtools.py:151: UserWarning: Glyph 12428 (\\N{HIRAGANA LETTER RE}) missing from font(s) DejaVu Sans.\n",
            "  fig.canvas.print_figure(bytes_io, **kw)\n",
            "/usr/local/lib/python3.11/dist-packages/IPython/core/pylabtools.py:151: UserWarning: Glyph 12414 (\\N{HIRAGANA LETTER MA}) missing from font(s) DejaVu Sans.\n",
            "  fig.canvas.print_figure(bytes_io, **kw)\n",
            "/usr/local/lib/python3.11/dist-packages/IPython/core/pylabtools.py:151: UserWarning: Glyph 12377 (\\N{HIRAGANA LETTER SU}) missing from font(s) DejaVu Sans.\n",
            "  fig.canvas.print_figure(bytes_io, **kw)\n",
            "/usr/local/lib/python3.11/dist-packages/IPython/core/pylabtools.py:151: UserWarning: Glyph 12363 (\\N{HIRAGANA LETTER KA}) missing from font(s) DejaVu Sans.\n",
            "  fig.canvas.print_figure(bytes_io, **kw)\n",
            "/usr/local/lib/python3.11/dist-packages/IPython/core/pylabtools.py:151: UserWarning: Glyph 65311 (\\N{FULLWIDTH QUESTION MARK}) missing from font(s) DejaVu Sans.\n",
            "  fig.canvas.print_figure(bytes_io, **kw)\n",
            "WARNING:matplotlib.font_manager:findfont: Font family 'Noto Sans CJK JP' not found.\n",
            "WARNING:matplotlib.font_manager:findfont: Font family 'Noto Sans CJK JP' not found.\n",
            "WARNING:matplotlib.font_manager:findfont: Font family 'Noto Sans CJK JP' not found.\n",
            "WARNING:matplotlib.font_manager:findfont: Font family 'Noto Sans CJK JP' not found.\n",
            "WARNING:matplotlib.font_manager:findfont: Font family 'Noto Sans CJK JP' not found.\n",
            "WARNING:matplotlib.font_manager:findfont: Font family 'Noto Sans CJK JP' not found.\n",
            "WARNING:matplotlib.font_manager:findfont: Font family 'Noto Sans CJK JP' not found.\n",
            "WARNING:matplotlib.font_manager:findfont: Font family 'Noto Sans CJK JP' not found.\n",
            "WARNING:matplotlib.font_manager:findfont: Font family 'Noto Sans CJK JP' not found.\n",
            "WARNING:matplotlib.font_manager:findfont: Font family 'Noto Sans CJK JP' not found.\n",
            "WARNING:matplotlib.font_manager:findfont: Font family 'Noto Sans CJK JP' not found.\n",
            "WARNING:matplotlib.font_manager:findfont: Font family 'Noto Sans CJK JP' not found.\n",
            "WARNING:matplotlib.font_manager:findfont: Font family 'Noto Sans CJK JP' not found.\n",
            "WARNING:matplotlib.font_manager:findfont: Font family 'Noto Sans CJK JP' not found.\n",
            "WARNING:matplotlib.font_manager:findfont: Font family 'Noto Sans CJK JP' not found.\n",
            "WARNING:matplotlib.font_manager:findfont: Font family 'Noto Sans CJK JP' not found.\n",
            "WARNING:matplotlib.font_manager:findfont: Font family 'Noto Sans CJK JP' not found.\n",
            "WARNING:matplotlib.font_manager:findfont: Font family 'Noto Sans CJK JP' not found.\n",
            "WARNING:matplotlib.font_manager:findfont: Font family 'Noto Sans CJK JP' not found.\n",
            "WARNING:matplotlib.font_manager:findfont: Font family 'Noto Sans CJK JP' not found.\n",
            "WARNING:matplotlib.font_manager:findfont: Font family 'Noto Sans CJK JP' not found.\n",
            "WARNING:matplotlib.font_manager:findfont: Font family 'Noto Sans CJK JP' not found.\n"
          ]
        },
        {
          "output_type": "display_data",
          "data": {
            "text/plain": [
              "<Figure size 500x300 with 1 Axes>"
            ],
            "image/png": "[encoded data removed]"
          },
          "metadata": {}
        }
      ]
    },
    {
      "cell_type": "code",
      "source": [
        "!apt-get update -y\n",
        "!apt-get install -y fonts-ipafont-gothic\n",
        "\n",
        "import matplotlib.pyplot as plt\n",
        "import matplotlib.font_manager as fm\n",
        "\n",
        "# フォントのパスを指定\n",
        "font_path = '/usr/share/fonts/opentype/ipafont-gothic/ipag.ttf'\n",
        "\n",
        "# フォントプロパティを作成\n",
        "font_prop = fm.FontProperties(fname=font_path)\n",
        "plt.rcParams['font.family'] = font_prop.get_name()\n",
        "\n",
        "# テストプロット\n",
        "plt.figure(figsize=(5, 3))\n",
        "plt.text(0.5, 0.5, \"テスト: 日本語が表示されますか？\", fontsize=15, ha='center')\n",
        "plt.show()\n"
      ],
      "metadata": {
        "colab": {
          "base_uri": "https://localhost:8080/",
          "height": 295
        },
        "id": "FwyTjFNI6a2n",
        "outputId": "cb298c3e-c5db-406f-ad47-1933bd046665"
      },
      "execution_count": null,
      "outputs": [
        {
          "output_type": "display_data",
          "data": {
            "text/plain": [
              "<Figure size 500x300 with 1 Axes>"
            ],
            "image/png": "[encoded data removed]"
          },
          "metadata": {}
        }
      ]
    },
    {
      "cell_type": "code",
      "source": [
        "import matplotlib.font_manager as fm\n",
        "\n",
        "# システムにあるフォント一覧を取得\n",
        "fonts = fm.findSystemFonts()\n",
        "for font in fonts:\n",
        "    print(font)\n"
      ],
      "metadata": {
        "colab": {
          "base_uri": "https://localhost:8080/"
        },
        "id": "HryZM2Cq7ZTW",
        "outputId": "63ff1eb5-793c-4511-f04d-e4854c735adf"
      },
      "execution_count": null,
      "outputs": [
        {
          "output_type": "stream",
          "name": "stdout",
          "text": [
            "/usr/share/fonts/truetype/liberation/LiberationSansNarrow-Regular.ttf\n",
            "/usr/share/fonts/truetype/liberation/LiberationMono-Italic.ttf\n",
            "/usr/share/fonts/truetype/liberation/LiberationSans-Italic.ttf\n",
            "/usr/share/fonts/truetype/liberation/LiberationSerif-BoldItalic.ttf\n",
            "/usr/share/fonts/truetype/liberation/LiberationSansNarrow-Bold.ttf\n",
            "/usr/share/fonts/truetype/liberation/LiberationMono-BoldItalic.ttf\n",
            "/usr/share/fonts/truetype/liberation/LiberationMono-Bold.ttf\n",
            "/usr/share/fonts/truetype/liberation/LiberationSerif-Bold.ttf\n",
            "/usr/share/fonts/truetype/fonts-japanese-gothic.ttf\n",
            "/usr/share/fonts/truetype/liberation/LiberationSansNarrow-BoldItalic.ttf\n",
            "/usr/share/fonts/opentype/ipafont-mincho/ipam.ttf\n",
            "/usr/share/fonts/truetype/liberation/LiberationSans-Regular.ttf\n",
            "/usr/share/fonts/truetype/liberation/LiberationSerif-Regular.ttf\n",
            "/usr/share/fonts/truetype/liberation/LiberationSans-BoldItalic.ttf\n",
            "/usr/share/fonts/truetype/liberation/LiberationSerif-Italic.ttf\n",
            "/usr/share/fonts/opentype/ipafont-mincho/ipamp.ttf\n",
            "/usr/share/fonts/opentype/ipafont-gothic/ipag.ttf\n",
            "/usr/share/fonts/opentype/ipafont-gothic/ipagp.ttf\n",
            "/usr/share/fonts/truetype/fonts-japanese-mincho.ttf\n",
            "/usr/share/fonts/truetype/liberation/LiberationSansNarrow-Italic.ttf\n",
            "/usr/share/fonts/truetype/humor-sans/Humor-Sans.ttf\n",
            "/usr/share/fonts/truetype/liberation/LiberationSans-Bold.ttf\n",
            "/usr/share/fonts/truetype/liberation/LiberationMono-Regular.ttf\n"
          ]
        }
      ]
    }
  ]
}